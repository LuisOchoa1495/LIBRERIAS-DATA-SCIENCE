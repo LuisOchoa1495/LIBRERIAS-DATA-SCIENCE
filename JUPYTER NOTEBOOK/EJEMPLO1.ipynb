{
 "cells": [
  {
   "cell_type": "markdown",
   "metadata": {},
   "source": [
    "MI PRIMER PROYECTO EN JUPYTER NOTEBOOK"
   ]
  },
  {
   "cell_type": "code",
   "execution_count": 5,
   "metadata": {},
   "outputs": [
    {
     "data": {
      "text/html": [
       "<div>\n",
       "<style scoped>\n",
       "    .dataframe tbody tr th:only-of-type {\n",
       "        vertical-align: middle;\n",
       "    }\n",
       "\n",
       "    .dataframe tbody tr th {\n",
       "        vertical-align: top;\n",
       "    }\n",
       "\n",
       "    .dataframe thead th {\n",
       "        text-align: right;\n",
       "    }\n",
       "</style>\n",
       "<table border=\"1\" class=\"dataframe\">\n",
       "  <thead>\n",
       "    <tr style=\"text-align: right;\">\n",
       "      <th></th>\n",
       "      <th>Tarea</th>\n",
       "      <th>Inicio</th>\n",
       "      <th>Fin</th>\n",
       "      <th>Asignado</th>\n",
       "      <th>Dificultad</th>\n",
       "    </tr>\n",
       "  </thead>\n",
       "  <tbody>\n",
       "    <tr>\n",
       "      <th>0</th>\n",
       "      <td>Tarea A</td>\n",
       "      <td>2013-09-05</td>\n",
       "      <td>2013-10-25</td>\n",
       "      <td>Persona A</td>\n",
       "      <td>70</td>\n",
       "    </tr>\n",
       "    <tr>\n",
       "      <th>1</th>\n",
       "      <td>Tarea B</td>\n",
       "      <td>2013-12-03</td>\n",
       "      <td>2014-02-14</td>\n",
       "      <td>Persona A</td>\n",
       "      <td>20</td>\n",
       "    </tr>\n",
       "    <tr>\n",
       "      <th>2</th>\n",
       "      <td>Tarea C</td>\n",
       "      <td>2013-10-20</td>\n",
       "      <td>2014-03-17</td>\n",
       "      <td>Persona B</td>\n",
       "      <td>30</td>\n",
       "    </tr>\n",
       "    <tr>\n",
       "      <th>3</th>\n",
       "      <td>Tarea D</td>\n",
       "      <td>2014-02-21</td>\n",
       "      <td>2014-07-06</td>\n",
       "      <td>Persona A</td>\n",
       "      <td>50</td>\n",
       "    </tr>\n",
       "    <tr>\n",
       "      <th>4</th>\n",
       "      <td>Tarea E</td>\n",
       "      <td>2014-06-20</td>\n",
       "      <td>2014-09-28</td>\n",
       "      <td>Persona B</td>\n",
       "      <td>80</td>\n",
       "    </tr>\n",
       "  </tbody>\n",
       "</table>\n",
       "</div>"
      ],
      "text/plain": [
       "     Tarea      Inicio         Fin   Asignado  Dificultad\n",
       "0  Tarea A  2013-09-05  2013-10-25  Persona A          70\n",
       "1  Tarea B  2013-12-03  2014-02-14  Persona A          20\n",
       "2  Tarea C  2013-10-20  2014-03-17  Persona B          30\n",
       "3  Tarea D  2014-02-21  2014-07-06  Persona A          50\n",
       "4  Tarea E  2014-06-20  2014-09-28  Persona B          80"
      ]
     },
     "execution_count": 5,
     "metadata": {},
     "output_type": "execute_result"
    }
   ],
   "source": [
    "import pandas as pd\n",
    "\n",
    "df = pd.DataFrame([\n",
    "    dict(Tarea = \"Tarea A\", Inicio = '2013-09-05', Fin = '2013-10-25', Asignado = \"Persona A\", Dificultad = 70),\n",
    "    dict(Tarea = \"Tarea B\", Inicio = '2013-12-03', Fin = '2014-02-14', Asignado = \"Persona A\", Dificultad = 20),\n",
    "    dict(Tarea = \"Tarea C\", Inicio = '2013-10-20', Fin = '2014-03-17', Asignado = \"Persona B\", Dificultad = 30),\n",
    "    dict(Tarea = \"Tarea D\", Inicio = '2014-02-21', Fin = '2014-07-06', Asignado = \"Persona A\", Dificultad = 50),\n",
    "    dict(Tarea = \"Tarea E\", Inicio = '2014-06-20', Fin = '2014-09-28', Asignado = \"Persona B\", Dificultad = 80)\n",
    "])\n",
    "df\n",
    " \n"
   ]
  },
  {
   "cell_type": "code",
   "execution_count": 13,
   "metadata": {},
   "outputs": [
    {
     "data": {
      "text/plain": [
       "<AxesSubplot: ylabel='Count'>"
      ]
     },
     "execution_count": 13,
     "metadata": {},
     "output_type": "execute_result"
    },
    {
     "data": {
      "image/png": "[encoded data removed]",
      "text/plain": [
       "<Figure size 640x480 with 1 Axes>"
      ]
     },
     "metadata": {},
     "output_type": "display_data"
    }
   ],
   "source": [
    "import numpy as np\n",
    "import seaborn as sns\n",
    "\n",
    "# Datos\n",
    "rng = np.random.RandomState(10)\n",
    "x = rng.normal(0, 1, size = 100)\n",
    "\n",
    "# Establecer el color de fondo\n",
    "sns.set_style(rc = {'axes.facecolor': 'lightsteelblue'})\n",
    "\n",
    "# Gráfico\n",
    "sns.histplot(x = x) \n",
    "\n"
   ]
  }
 ],
 "metadata": {
  "kernelspec": {
   "display_name": "Python 3",
   "language": "python",
   "name": "python3"
  },
  "language_info": {
   "codemirror_mode": {
    "name": "ipython",
    "version": 3
   },
   "file_extension": ".py",
   "mimetype": "text/x-python",
   "name": "python",
   "nbconvert_exporter": "python",
   "pygments_lexer": "ipython3",
   "version": "3.11.2"
  }
 },
 "nbformat": 4,
 "nbformat_minor": 2
}
